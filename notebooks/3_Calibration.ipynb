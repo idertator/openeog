{
 "cells": [
  {
   "cell_type": "markdown",
   "id": "5ca91bf5-f98e-48e9-a64c-b7b919a50824",
   "metadata": {},
   "source": [
    "# 3 - Calibration"
   ]
  },
  {
   "cell_type": "code",
   "execution_count": 15,
   "id": "938f0b1f-f59c-4e97-99e5-07aacb4a2548",
   "metadata": {},
   "outputs": [],
   "source": [
    "%matplotlib inline\n",
    "import matplotlib as plt\n",
    "plt.rcParams['figure.figsize'] = [21, 8]\n",
    "plt.rcParams['figure.dpi'] = 100"
   ]
  },
  {
   "cell_type": "code",
   "execution_count": 4,
   "id": "9302b278-3f83-415d-b94f-2e5927060870",
   "metadata": {},
   "outputs": [],
   "source": [
    "from bsp.core.io import load_study\n",
    "study = load_study(\"data/prueba_fixed.bsp\")\n",
    "initial_calibration = study[0]\n",
    "final_calibration = study[-1]"
   ]
  },
  {
   "cell_type": "code",
   "execution_count": 13,
   "id": "b9b9f6b9-7a19-4752-b4f1-8fd7b291804d",
   "metadata": {},
   "outputs": [
    {
     "name": "stdout",
     "output_type": "stream",
     "text": [
      "0.0021364740046483587 0.9679631783217272\n"
     ]
    }
   ],
   "source": [
    "from typing import Iterator\n",
    "from numpy import ndarray, median, mean\n",
    "\n",
    "from bsp.core import impulses\n",
    "\n",
    "def _amplitudes(channel: ndarray) -> Iterator[int]:\n",
    "    for start, end in impulses(channel):\n",
    "        start_value = channel[start]\n",
    "        end_value = channel[end]\n",
    "        amplitude = max(start_value, end_value) - min(start_value, end_value)\n",
    "        yield amplitude\n",
    "\n",
    "def _valid_amplitudes(channel: ndarray, tolerance: float=0.2) -> Iterator[int]:\n",
    "    amplitudes = list(_amplitudes(channel))\n",
    "    median_amplitude = median(amplitudes)\n",
    "    delta = median_amplitude * tolerance\n",
    "    min_value, max_value = median_amplitude - delta, median_amplitude + delta\n",
    "    for amplitude in amplitudes:\n",
    "        if min_value <= amplitude <= max_value:\n",
    "            yield amplitude\n",
    "\n",
    "\n",
    "def calibration(initial: ndarray, final: ndarray, angle: int=30) -> tuple[float, float]:\n",
    "    initial_amplitudes = list(_valid_amplitudes(initial))\n",
    "    final_amplitudes = list(_valid_amplitudes(final))\n",
    "\n",
    "    initial_mean = mean(initial_amplitudes)\n",
    "    final_mean = mean(final_amplitudes)\n",
    "\n",
    "    initial_scale = angle / initial_mean\n",
    "    final_scale = angle / final_mean\n",
    "\n",
    "    scale = (initial_scale + final_scale) / 2\n",
    "    diff = initial_scale / final_scale\n",
    "\n",
    "    return scale, diff\n",
    "\n",
    "\n",
    "hor_scale, diff = calibration(\n",
    "    initial=initial_calibration.horizontal_channel,\n",
    "    final=final_calibration.horizontal_channel,\n",
    "    angle=30,\n",
    ")\n",
    "print(hor_scale, diff)"
   ]
  },
  {
   "cell_type": "code",
   "execution_count": null,
   "id": "6d384a58-dfe2-47c7-a83d-43bcb15ce193",
   "metadata": {},
   "outputs": [],
   "source": []
  }
 ],
 "metadata": {
  "kernelspec": {
   "display_name": "Python 3 (ipykernel)",
   "language": "python",
   "name": "python3"
  },
  "language_info": {
   "codemirror_mode": {
    "name": "ipython",
    "version": 3
   },
   "file_extension": ".py",
   "mimetype": "text/x-python",
   "name": "python",
   "nbconvert_exporter": "python",
   "pygments_lexer": "ipython3",
   "version": "3.10.14"
  }
 },
 "nbformat": 4,
 "nbformat_minor": 5
}
