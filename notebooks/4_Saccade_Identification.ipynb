{
 "cells": [
  {
   "cell_type": "markdown",
   "id": "900e1011-49c6-4bd2-8f3d-ff2385b465a9",
   "metadata": {},
   "source": [
    "# 4 - Saccade Identification"
   ]
  },
  {
   "cell_type": "code",
   "execution_count": 18,
   "id": "98b62db1-ad6f-446e-929a-6148a1d12cef",
   "metadata": {},
   "outputs": [],
   "source": [
    "%matplotlib qt\n",
    "import matplotlib.pyplot as plt\n",
    "plt.rcParams['figure.figsize'] = [21, 8]\n",
    "plt.rcParams['figure.dpi'] = 100"
   ]
  },
  {
   "cell_type": "code",
   "execution_count": 19,
   "id": "df04fe1a-3e07-4cd9-93cb-e69c712802cd",
   "metadata": {},
   "outputs": [],
   "source": [
    "from bsp.core import load_study, calibration, differentiate\n",
    "\n",
    "study = load_study(\"data/prueba.bsp\")\n",
    "test = study[1]"
   ]
  },
  {
   "cell_type": "code",
   "execution_count": 20,
   "id": "bacef9b9-c881-4b4e-923b-dc0c34e3c11b",
   "metadata": {},
   "outputs": [
    {
     "name": "stdout",
     "output_type": "stream",
     "text": [
      "[<bsp.core.models.Saccade object at 0x7f0199281e50>]\n"
     ]
    },
    {
     "data": {
      "text/plain": [
       "[<bsp.core.models.Saccade at 0x7f0199281e50>]"
      ]
     },
     "execution_count": 20,
     "metadata": {},
     "output_type": "execute_result"
    }
   ],
   "source": [
    "test.annotate()"
   ]
  },
  {
   "cell_type": "code",
   "execution_count": 21,
   "id": "154f2d7c-d6dd-4f12-92a0-04ba52890ac6",
   "metadata": {},
   "outputs": [
    {
     "data": {
      "text/plain": [
       "[<matplotlib.lines.Line2D at 0x7f01994a7a10>]"
      ]
     },
     "execution_count": 21,
     "metadata": {},
     "output_type": "execute_result"
    }
   ],
   "source": [
    "plt.plot(test.hor_channel)"
   ]
  },
  {
   "cell_type": "code",
   "execution_count": 15,
   "id": "fc6d33c3-d01b-4b84-9bee-5e71fef08a49",
   "metadata": {},
   "outputs": [
    {
     "data": {
      "text/plain": [
       "0.002237178257431945"
      ]
     },
     "execution_count": 15,
     "metadata": {},
     "output_type": "execute_result"
    }
   ],
   "source": [
    "study.hor_calibration"
   ]
  },
  {
   "cell_type": "code",
   "execution_count": 17,
   "id": "c7202cd1-adc1-4c0c-875f-36267d27b7ba",
   "metadata": {},
   "outputs": [
    {
     "data": {
      "text/plain": [
       "array([  0.      ,   0.      ,   0.      , ..., -14.037979, -14.02903 ,\n",
       "       -14.002186], dtype=float32)"
      ]
     },
     "execution_count": 17,
     "metadata": {},
     "output_type": "execute_result"
    }
   ],
   "source": [
    "test._hor_channel"
   ]
  },
  {
   "cell_type": "code",
   "execution_count": null,
   "id": "97242719-6752-4c26-bbc7-e687b7a5d7be",
   "metadata": {},
   "outputs": [],
   "source": []
  }
 ],
 "metadata": {
  "kernelspec": {
   "display_name": "Python 3 (ipykernel)",
   "language": "python",
   "name": "python3"
  },
  "language_info": {
   "codemirror_mode": {
    "name": "ipython",
    "version": 3
   },
   "file_extension": ".py",
   "mimetype": "text/x-python",
   "name": "python",
   "nbconvert_exporter": "python",
   "pygments_lexer": "ipython3",
   "version": "3.10.14"
  }
 },
 "nbformat": 4,
 "nbformat_minor": 5
}
