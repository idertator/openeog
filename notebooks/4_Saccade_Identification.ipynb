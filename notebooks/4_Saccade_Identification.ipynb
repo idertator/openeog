{
 "cells": [
  {
   "cell_type": "markdown",
   "id": "900e1011-49c6-4bd2-8f3d-ff2385b465a9",
   "metadata": {},
   "source": [
    "# 4 - Saccade Identification"
   ]
  },
  {
   "cell_type": "code",
   "execution_count": 1,
   "id": "98b62db1-ad6f-446e-929a-6148a1d12cef",
   "metadata": {},
   "outputs": [],
   "source": [
    "%matplotlib qt\n",
    "import matplotlib.pyplot as plt\n",
    "plt.rcParams['figure.figsize'] = [21, 8]\n",
    "plt.rcParams['figure.dpi'] = 100"
   ]
  },
  {
   "cell_type": "code",
   "execution_count": 30,
   "id": "df04fe1a-3e07-4cd9-93cb-e69c712802cd",
   "metadata": {},
   "outputs": [
    {
     "data": {
      "text/plain": [
       "<matplotlib.lines.Line2D at 0x7f6e9277c110>"
      ]
     },
     "execution_count": 30,
     "metadata": {},
     "output_type": "execute_result"
    }
   ],
   "source": [
    "from bsp.core import load_study, calibration, differentiate\n",
    "\n",
    "study = load_study(\"data/prueba_fixed.bsp\")\n",
    "\n",
    "hor10 = study[1].horizontal_channel\n",
    "hor10_stim = study[1].horizontal_stimuli\n",
    "vel10 = medfilt(differentiate(hor10), 51)\n",
    "\n",
    "v_mean = vel10.mean()\n",
    "v_std = vel10.std()\n",
    "\n",
    "plt.plot(abs(vel10))\n",
    "# plt.axhline(v_mean - v_std, color='r')\n",
    "plt.axhline(v_mean + v_std, color='r')"
   ]
  },
  {
   "cell_type": "code",
   "execution_count": 38,
   "id": "624d7283-da4b-492c-87bc-09c10cb1e811",
   "metadata": {},
   "outputs": [],
   "source": [
    "from typing import Iterator\n",
    "from numpy import ndarray\n",
    "from scipy.signal import medfilt\n",
    "from bsp.core import impulses, differentiate\n",
    "\n",
    "def saccades(\n",
    "    channel: ndarray, \n",
    "    angle: int,\n",
    "    tolerance: float = 0.2,\n",
    ") -> Iterator[tuple[int, int]]:\n",
    "    velocities = medfilt(differentiate(channel), 71)\n",
    "    threshold = velocities.std()\n",
    "    velocities = abs(velocities)\n",
    "    right = len(channel) - 1\n",
    "\n",
    "    delta_amplitude = angle * tolerance\n",
    "    min_amplitude, max_amplitude = angle - delta_amplitude, angle + delta_amplitude\n",
    "\n",
    "    idx = 0\n",
    "    onset = None\n",
    "    offset = None\n",
    "    while idx <= right:\n",
    "        if velocities[idx] > threshold:\n",
    "            if onset is None:\n",
    "                onset = idx\n",
    "            offset = idx\n",
    "        elif onset is not None:\n",
    "            onset_value = channel[onset]\n",
    "            offset_value = channel[offset]\n",
    "\n",
    "            while onset > 0 and velocities[onset] > velocities[onset - 1]:\n",
    "                onset -= 1\n",
    "\n",
    "            while offset < right and velocities[offset] > velocities[offset + 1]:\n",
    "                offset += 1\n",
    "\n",
    "            window = channel[onset:offset + 1]\n",
    "            amplitude = window.max() - window.min()\n",
    "            \n",
    "            if min_amplitude <= amplitude <= max_amplitude:\n",
    "                yield onset, offset\n",
    "\n",
    "            onset = None\n",
    "            offset = None\n",
    "        idx += 1\n",
    "\n",
    "test = study[4]\n",
    "hor = test.horizontal_channel\n",
    "stim = test.horizontal_stimuli\n",
    "\n",
    "plt.plot(stim, color='k', alpha=0.5)\n",
    "plt.plot(hor, color='b')\n",
    "for onset, offset in saccades(hor, test.angle):\n",
    "    plt.axvspan(onset, offset, facecolor='r', alpha=0.2)"
   ]
  },
  {
   "cell_type": "code",
   "execution_count": null,
   "id": "023ee1ab-453b-4463-af96-1b351c60939b",
   "metadata": {},
   "outputs": [],
   "source": []
  }
 ],
 "metadata": {
  "kernelspec": {
   "display_name": "Python 3 (ipykernel)",
   "language": "python",
   "name": "python3"
  },
  "language_info": {
   "codemirror_mode": {
    "name": "ipython",
    "version": 3
   },
   "file_extension": ".py",
   "mimetype": "text/x-python",
   "name": "python",
   "nbconvert_exporter": "python",
   "pygments_lexer": "ipython3",
   "version": "3.11.3"
  }
 },
 "nbformat": 4,
 "nbformat_minor": 5
}
