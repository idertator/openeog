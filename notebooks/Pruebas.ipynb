{
 "cells": [
  {
   "cell_type": "markdown",
   "id": "e6a683e0-33cd-4912-846e-191028d32b1f",
   "metadata": {},
   "source": [
    "# Pruebas"
   ]
  },
  {
   "cell_type": "code",
   "execution_count": 1,
   "id": "434f9f9c-a530-47a2-a1c0-0c241238af67",
   "metadata": {},
   "outputs": [],
   "source": [
    "from bsp.core import io"
   ]
  },
  {
   "cell_type": "code",
   "execution_count": 3,
   "id": "7465b01b-e8ba-453c-bd9d-5130848d069c",
   "metadata": {},
   "outputs": [
    {
     "data": {
      "text/plain": [
       "<bsp.core.models.Study at 0x2abee9290>"
      ]
     },
     "execution_count": 3,
     "metadata": {},
     "output_type": "execute_result"
    }
   ],
   "source": [
    "study = io.load_study(\"/Users/idertator/Records/saccades.bsp\")\n",
    "study"
   ]
  },
  {
   "cell_type": "code",
   "execution_count": null,
   "id": "0264a3c5-8b50-4283-aecb-aa696633867c",
   "metadata": {},
   "outputs": [],
   "source": []
  }
 ],
 "metadata": {
  "kernelspec": {
   "display_name": "Python 3 (ipykernel)",
   "language": "python",
   "name": "python3"
  },
  "language_info": {
   "codemirror_mode": {
    "name": "ipython",
    "version": 3
   },
   "file_extension": ".py",
   "mimetype": "text/x-python",
   "name": "python",
   "nbconvert_exporter": "python",
   "pygments_lexer": "ipython3",
   "version": "3.11.6"
  }
 },
 "nbformat": 4,
 "nbformat_minor": 5
}
