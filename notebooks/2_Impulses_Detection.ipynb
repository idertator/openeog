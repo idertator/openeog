{
 "cells": [
  {
   "cell_type": "markdown",
   "id": "d73b8005-b2a3-4ee4-8ded-f72d54a46b2a",
   "metadata": {},
   "source": [
    "# 2 - Impulses Detection"
   ]
  },
  {
   "cell_type": "code",
   "execution_count": 44,
   "id": "22fcfcdf-6e0d-4c69-97a2-72dee1ade88f",
   "metadata": {},
   "outputs": [],
   "source": [
    "%matplotlib qt\n",
    "import matplotlib as plt\n",
    "plt.rcParams['figure.figsize'] = [21, 8]\n",
    "plt.rcParams['figure.dpi'] = 100"
   ]
  },
  {
   "cell_type": "code",
   "execution_count": 2,
   "id": "0f62d7ff-97f4-4e45-8d49-e33adaedbea0",
   "metadata": {},
   "outputs": [],
   "source": [
    "from bsp.core.io import load_study\n",
    "study = load_study(\"data/prueba_fixed.bsp\")"
   ]
  },
  {
   "cell_type": "code",
   "execution_count": 45,
   "id": "b30a04bf-227c-421c-85e3-75916caf465e",
   "metadata": {},
   "outputs": [],
   "source": [
    "test = study[0]\n",
    "\n",
    "from sklearn.cluster import KMeans\n",
    "from scipy.signal import medfilt\n",
    "from typing import Iterator\n",
    "from bsp.core.processing import denoise, differentiate\n",
    "\n",
    "def impulses(channel: ndarray) -> Iterator[tuple[int, int]]:\n",
    "    denoised_channel = denoise(channel)\n",
    "    derived_channel = abs(medfilt(differentiate(denoised_channel), 11))\n",
    "    \n",
    "    X = derived_channel.reshape((len(filtered_derivative),-1))   \n",
    "    labels = KMeans(n_clusters=2, n_init='auto').fit_predict(X)\n",
    "\n",
    "    def iterate_clusters():\n",
    "        start = None\n",
    "        for idx, label in enumerate(labels):\n",
    "            if label == 1:\n",
    "                if start is None:\n",
    "                    start = idx\n",
    "            else:\n",
    "                if start is not None:\n",
    "                    yield start, idx\n",
    "                start = None\n",
    "\n",
    "    samples = len(channel)\n",
    "    for start, end in iterate_clusters():\n",
    "        while start > 1 and derived_channel[start] > derived_channel[start - 1]:\n",
    "            start -= 1\n",
    "\n",
    "        while end < samples - 1 and derived_channel[end] > derived_channel[end + 1]:\n",
    "            end += 1\n",
    "\n",
    "        yield start, end\n",
    "\n",
    "\n",
    "channel = test.horizontal_channel\n",
    "\n",
    "plot(channel)\n",
    "for start, end in impulses(channel):\n",
    "    axvspan(start, end, facecolor='r', alpha=0.2)"
   ]
  },
  {
   "cell_type": "code",
   "execution_count": null,
   "id": "d1fdcd37-4c82-4119-9f00-81ef2492e01b",
   "metadata": {},
   "outputs": [],
   "source": []
  }
 ],
 "metadata": {
  "kernelspec": {
   "display_name": "Python 3 (ipykernel)",
   "language": "python",
   "name": "python3"
  },
  "language_info": {
   "codemirror_mode": {
    "name": "ipython",
    "version": 3
   },
   "file_extension": ".py",
   "mimetype": "text/x-python",
   "name": "python",
   "nbconvert_exporter": "python",
   "pygments_lexer": "ipython3",
   "version": "3.11.3"
  }
 },
 "nbformat": 4,
 "nbformat_minor": 5
}
