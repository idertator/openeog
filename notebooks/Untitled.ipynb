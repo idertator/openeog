{
 "cells": [
  {
   "cell_type": "markdown",
   "id": "4feb51bc-8099-4c29-bce8-c3180a73873b",
   "metadata": {},
   "source": [
    "# Pruebas"
   ]
  },
  {
   "cell_type": "code",
   "execution_count": 1,
   "id": "3cf23264-1631-48e7-93c5-627d8facc317",
   "metadata": {},
   "outputs": [],
   "source": [
    "import bsp"
   ]
  },
  {
   "cell_type": "code",
   "execution_count": null,
   "id": "e6e3e4d2-3074-4f72-b0fa-aeaa6492b905",
   "metadata": {},
   "outputs": [],
   "source": []
  }
 ],
 "metadata": {
  "kernelspec": {
   "display_name": "Python 3 (ipykernel)",
   "language": "python",
   "name": "python3"
  },
  "language_info": {
   "codemirror_mode": {
    "name": "ipython",
    "version": 3
   },
   "file_extension": ".py",
   "mimetype": "text/x-python",
   "name": "python",
   "nbconvert_exporter": "python",
   "pygments_lexer": "ipython3",
   "version": "3.11.6"
  }
 },
 "nbformat": 4,
 "nbformat_minor": 5
}
